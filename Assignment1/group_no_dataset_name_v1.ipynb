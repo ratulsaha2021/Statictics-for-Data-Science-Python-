{
 "cells": [
  {
   "cell_type": "markdown",
   "metadata": {},
   "source": [
    "# Assignment for Dataset\n",
    "## Its all about collecting and describing datasets!"
   ]
  },
  {
   "cell_type": "markdown",
   "metadata": {},
   "source": [
    "### The key tasks are:\n",
    "* Collect extensive information regarding available dataset within your domain\n",
    "* Summarize those datasets in pictorial tree, short description and data summary.\n",
    "\n",
    "Please workthrough this notebook to complete your assignment. You may add additional markdown and code cells in jupyter notebook."
   ]
  },
  {
   "cell_type": "markdown",
   "metadata": {},
   "source": [
    "### 1. Find all available public datasets within your topic. List the name of those datasets along with their URLs. Use a table to summarise the info. Also download each datasets and save them in google drive. We will try to find any other dataset that you could not find. For each of such unexplored dataset, you will loose 25% marks."
   ]
  },
  {
   "cell_type": "markdown",
   "metadata": {},
   "source": [
    "Your findings in this cell:"
   ]
  },
  {
   "cell_type": "markdown",
   "metadata": {},
   "source": [
    "### 2. Write short descriptions of each dataset. Explain the meaining of each features (columns). Write short summary of each datasets. Write anyother information you may find relavent, including pictorial tree."
   ]
  },
  {
   "cell_type": "markdown",
   "metadata": {},
   "source": [
    "Your findings in this cell:"
   ]
  },
  {
   "cell_type": "markdown",
   "metadata": {},
   "source": [
    "### 3. Read those datasets using python. Show the heads and tails. Use aavaialble python functions to describe those datasets in brief (how many null values, what are the data types, etc. Can you use a single function to show these info?). "
   ]
  },
  {
   "cell_type": "code",
   "execution_count": null,
   "metadata": {},
   "outputs": [],
   "source": [
    "# Your code below:"
   ]
  },
  {
   "cell_type": "markdown",
   "metadata": {},
   "source": [
    "### 4. Find which research articles cited those datasets. For examople, cosider, there is a dataset named 'CASIA-1'. You have to find which reseach articles cited CASIA-1 and used that dataset in their research paper. Generally you can find this info from the dataset providers website and from google scholar search. "
   ]
  },
  {
   "cell_type": "markdown",
   "metadata": {},
   "source": [
    "Your findings in this cell:"
   ]
  },
  {
   "cell_type": "markdown",
   "metadata": {},
   "source": [
    "### Is there any existing survey done on those datasets? Mention any relavent survey done on your topic (not only for datasets around your topic, but on Anything in general around your topic)"
   ]
  },
  {
   "cell_type": "markdown",
   "metadata": {},
   "source": [
    "Your findings in this cell:"
   ]
  }
 ],
 "metadata": {
  "kernelspec": {
   "display_name": "Python 3.8.11 ('env_tf')",
   "language": "python",
   "name": "python3"
  },
  "language_info": {
   "codemirror_mode": {
    "name": "ipython",
    "version": 3
   },
   "file_extension": ".py",
   "mimetype": "text/x-python",
   "name": "python",
   "nbconvert_exporter": "python",
   "pygments_lexer": "ipython3",
   "version": "3.8.11"
  },
  "orig_nbformat": 4,
  "vscode": {
   "interpreter": {
    "hash": "5df4995f4205929e0e7a5839a3f9bdb0ead66b703c002bad5d5fcff442b16b20"
   }
  }
 },
 "nbformat": 4,
 "nbformat_minor": 2
}
